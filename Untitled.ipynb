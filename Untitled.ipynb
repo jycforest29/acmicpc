{
 "cells": [
  {
   "cell_type": "code",
   "execution_count": 32,
   "id": "74cdee81",
   "metadata": {},
   "outputs": [
    {
     "name": "stdout",
     "output_type": "stream",
     "text": [
      "5\n"
     ]
    }
   ],
   "source": [
    "class FourCal:\n",
    "    def __init__(self, f, s):\n",
    "        self.f = f\n",
    "        self.s = s\n",
    "\n",
    "a = FourCal(5, 6)\n",
    "print(a.f)"
   ]
  },
  {
   "cell_type": "code",
   "execution_count": null,
   "id": "2b7f4918",
   "metadata": {},
   "outputs": [],
   "source": [
    "(a, b) = 0, 1\n",
    "print(a, b)"
   ]
  },
  {
   "cell_type": "code",
   "execution_count": null,
   "id": "e917cddf",
   "metadata": {},
   "outputs": [],
   "source": []
  }
 ],
 "metadata": {
  "kernelspec": {
   "display_name": "Python 3 (ipykernel)",
   "language": "python",
   "name": "python3"
  },
  "language_info": {
   "codemirror_mode": {
    "name": "ipython",
    "version": 3
   },
   "file_extension": ".py",
   "mimetype": "text/x-python",
   "name": "python",
   "nbconvert_exporter": "python",
   "pygments_lexer": "ipython3",
   "version": "3.9.11"
  },
  "vscode": {
   "interpreter": {
    "hash": "1d5c1156327dacead463cc502c55ebae8ce9c8c01979cf154173ff808e75bf55"
   }
  }
 },
 "nbformat": 4,
 "nbformat_minor": 5
}
